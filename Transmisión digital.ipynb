{
 "cells": [
  {
   "cell_type": "markdown",
   "metadata": {},
   "source": [
    "### Transmisión digital de señales análogas \n",
    "La tendencia en el diseño de los nuevos sistemas de comunicación ha sido en torno al uso de señales digitales en contra de las análogas, esto por la versatilidad (puedo transmitir ambos tipos de señales de forma digital haciendo conversiones Analógico $ \\rightarrow $ Digital), por seguridad (criptografía), etc.\n",
    "\n",
    "Para poder transmitir una señal análoga de manera digital, la señal debe ser convertida a una señal digital, este proceso (*analog-to-digital conversion* o *modulación de pulso digital*) puede ser realizado por medio de dos métodos, el *pulse code modulation* (PCM) o el *delta modulation* (DM)."
   ]
  },
  {
   "cell_type": "markdown",
   "metadata": {},
   "source": [
    "#### PCM - Modulación por Codificación de Pulsos\n",
    "Principalmente está compuesta por tres pasos:\n",
    "\n",
    "![im1](https://i.postimg.cc/6qqZs1ZL/imagen-2022-08-28-204614139.png)\n",
    "1. Sampler o muestreo: consiste en el proceso en el cual una señal continua en el tiempo se muestrea midiendo su amplitud en distantes discretos. (Continua -> Discreta en el tiempo).\n",
    "2. Quantizer o cuantización: representar los valores muestreados de amplitud mediante un conjunto finito de niveles. (Continua -> Discreta en la amplitud).\n",
    "3. Encode o codificación: cada muestra cuantizada la convierto a 1's y 0's. \n",
    "\n"
   ]
  },
  {
   "cell_type": "markdown",
   "metadata": {},
   "source": [
    "##### Sampler o Muestreo "
   ]
  },
  {
   "cell_type": "markdown",
   "metadata": {},
   "source": [
    "La transmisión digital de señales analógicas es posible gracias al **sampling theorem** o **teorema del muestreo**:\n",
    "\n",
    "1. Band-Limited Signals: es una señal $m(t)$ para la cual su Transformada de Fourier ($\\mathcal{F}$) es $0$ por encima de cierta frecuencia $\\omega_M$:\n",
    "\n",
    ">$$ m(t) \\iff M(\\omega) = 0 \\text{ for } |\\omega|>\\omega_M=2\\pi f_M$$\n",
    "\n",
    "![title](https://i.postimg.cc/dt0bXRxs/imagen-2022-08-28-205915411.png)\n",
    "\n",
    "2. Sampling theorem: si una señal de mensaje que deseo transmitir $m(t)$ es real, y es a su vez de banda limitada, entonces esa señal $m(t)$ continua en el tiempo se puede determinar univocamente a partir de muestras $m(nT_s)$ tomadas en intervalos uniformes $T_s$ siempre y cuando $T_s \\leq \\frac{1}{2f_M}$:\n",
    "\n",
    ">$$m(t)= \\sum_{n=-\\infty}^{\\infty}{m(nT_s)\\frac{\\sin{\\omega_M}(t-nT_s)}{\\omega_M(t-nT_s)}}$$\n",
    "\n",
    "El **Teorema de Muestreo** establece que una señal de banda limitada, que no tiene componentes frecuenciales por encima de $f_m \\ \\text{Hz}$, se puede recuperar completamente a partir de un conjunto de muestras tomadas con una tasa de $f_s (\\geq 2f_M)$ muestras por segundo. El anterior teorema se conoce como el *teorema de muestreo uniforme* para señales *banda-base* o *pasa-bajas*."
   ]
  },
  {
   "cell_type": "markdown",
   "metadata": {},
   "source": [
    "Ahora, ¿cómo modelamos y utilizamos dicho teorema en el PCM?. Pues bien, vamos a hacer uso de lo que se conoce como **Muestreo Instantaneo**:\n",
    "\n",
    "*\"Queremos muestrear a $m(t)$ cada $T_s$ segundos\"*:\n",
    "\n",
    "<img src=\"https://i.postimg.cc/RZMsDwVS/imagen-2022-08-28-220856762.png\" width=\"750\">"
   ]
  },
  {
   "cell_type": "markdown",
   "metadata": {},
   "source": [
    "**Ejemplo**\n",
    "> Considere una señal $m(t) = cos{\\omega _0t}$, donde $\\omega _0=2\\pi f_0$. Ilustre el efecto del *undersampling* o submuestreo de $m(t)$ usando una tasa de muestreo $f_s = 3/2(f_0)$.\n",
    "\n",
    "Entonces recordemos que el espectro $M(\\omega)$ de $m(t)=cos{\\omega _0t}$ es dado por:\n",
    ">$$M(\\omega) = \\pi\\delta (\\omega - \\omega _0)+ \\pi\\delta (\\omega + \\omega _0)$$\n",
    ">![image.png](https://i.postimg.cc/ncsBczR4/image.png)\n",
    "\n",
    "Debería muestrear **MINIMO** a $2f_0$, pero como vamos a muestrear a $3/2f_0$ vamos a tener *aliasing* o solapamiento:\n",
    ">![image.png](https://i.postimg.cc/TPmXRrmz/image.png)\n",
    "\n",
    "En la imagen tenemos las réplicas espectrales no están desplazadas de manera equitativa, por lo cual al aplicar el filtrado pasa bajos, la salida $x_r(t)$ estaría dada por:\n",
    ">$$x_r(t)=cos(\\omega _s -\\omega _0)t= cos\\frac{1}{2}\\omega _0t \\neq m(t) = cos{\\omega _0t}$$ "
   ]
  },
  {
   "cell_type": "markdown",
   "metadata": {},
   "source": [
    "**Muestreo Natural**\n",
    "\n",
    "El muestreo instantaneo es un modelo conveniente pero existen maneras más prácticas de muestrear una señal analógica $m(t)$ utilizando circuitos de conmutación de alta velocidad como el de la figura:\n",
    "\n",
    "![image](https://i.postimg.cc/jq711zPN/image.png)\n",
    "\n",
    "Cada vez que el Switch-reloj cierra el circuito en un instante $t$ de tiempo, la señal toma el valor de amplitud de $m(t)$ para dicho $t$, e inmediatamente después vuelve a $0$ repitiendo dicho proceso varias veces para generar así la señal $x_{ns}(t)$. La señal muestreada $x_{ns}(t)$ puede ser modelada por la ecuación:\n",
    ">$$x_{ns}(t)=m(t)x_p(t)$$\n",
    "donde $x_p(t)$ es la serie periodica de pulsos rectangulares con periodo $T_s$, con ancho $d$ y amplitud unitaria."
   ]
  },
  {
   "cell_type": "markdown",
   "metadata": {},
   "source": [
    "**Flat-Top Sampling o Muestreo de Cresta Plana**\n",
    "\n",
    "Es el método de muestreo práctico más simple, y, a su vez, más utilizado actualmente que se realiza por medio de un circuito *sample-and-hold* o de *muestreo-retención* que produce una señal con forma de cresta plana, muestreando la señal, reteniendo dicho valor por un lapso de tiempo y finalmente retornando su valor a $0$.\n",
    "\n",
    "![image](https://i.postimg.cc/RVRxP7xd/imagen-2022-08-29-000131621.png)\n",
    "\n",
    "También es conocido como **Modulación por Amplitud de Pulso (PAM)**, este se encarga de que a partir de pulsos rectangulares se pueda producir una serie de pulsos rectangulares.\n",
    "\n",
    "![image](https://i.postimg.cc/L6N6qK5m/image.png)\n",
    "\n",
    "teniendo a $p(t)$ como dicha función de pulso rectangular definida como:\n",
    "> $$ p(t)=  \\left\n",
    "                \\{ \\begin{array}{lcc}\n",
    "                    1, & |t|<\\frac{d}{2} \\\\\n",
    "                    \\\\ \n",
    "                    0, & \\text{otherwise}\n",
    "                \\end{array}\n",
    "            \\right.  \n",
    "$$\n",
    "\n",
    "y teniendo a $p_{T_s}$ como la serie de pulsos rectangulares definida por:\n",
    "> $$p_{T_s}= \\sum_{n=-\\infty}^{\\infty}{p(t-nT_s)}$$\n",
    "\n",
    "![image](https://i.postimg.cc/dVfsB2GX/image.png)\n",
    "\n",
    "Solo restaría convolucionar a $m_s(t)$ y a $p_{T_s}(t)$ para obtener la señal modulada $x_s(t)$:\n",
    ">$$x_s(t) = m(t)p_{T_s}(t) = \\sum_{n=-\\infty}^{\\infty}{m(nT_s)p(t-nT_s)}$$\n",
    "\n",
    "![image](https://i.postimg.cc/Y9qdCWsr/image.png)"
   ]
  },
  {
   "cell_type": "markdown",
   "metadata": {},
   "source": [
    "##### Quantizer o Cuantizar"
   ]
  },
  {
   "cell_type": "markdown",
   "metadata": {},
   "source": [
    "Ya con el muestreo discretizamos la señal en función del tiempo (el eje horizontal), ahora con la cuantización discretizamos la amplitud (en el eje vertical), entonces con este proceso lo que hacemos es mapear las muestras a un conjunto permitido de valores de amplitud.\n",
    "\n",
    "A continuación veremos un ejemplo: \n",
    "..."
   ]
  },
  {
   "cell_type": "markdown",
   "metadata": {},
   "source": [
    "##### Encoder o Codificación"
   ]
  },
  {
   "cell_type": "markdown",
   "metadata": {},
   "source": []
  }
 ],
 "metadata": {
  "kernelspec": {
   "display_name": "Python 3.9.12 ('base')",
   "language": "python",
   "name": "python3"
  },
  "language_info": {
   "codemirror_mode": {
    "name": "ipython",
    "version": 3
   },
   "file_extension": ".py",
   "mimetype": "text/x-python",
   "name": "python",
   "nbconvert_exporter": "python",
   "pygments_lexer": "ipython3",
   "version": "3.9.12"
  },
  "orig_nbformat": 4,
  "vscode": {
   "interpreter": {
    "hash": "ad2bdc8ecc057115af97d19610ffacc2b4e99fae6737bb82f5d7fb13d2f2c186"
   }
  }
 },
 "nbformat": 4,
 "nbformat_minor": 2
}
